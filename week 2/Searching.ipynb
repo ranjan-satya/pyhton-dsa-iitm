{
 "cells": [
  {
   "cell_type": "markdown",
   "id": "261aee3c",
   "metadata": {},
   "source": [
    "# Searching in a list"
   ]
  },
  {
   "cell_type": "markdown",
   "id": "4fdf2606",
   "metadata": {},
   "source": [
    "Searching in a list is definitely a process that is very common is our everyday life. In the programming world we try to search for a given element in a given list. Hence, it is clear that in any searching problem we will be having a list and an element as input and our function will return the positon of the given element in the list."
   ]
  },
  {
   "cell_type": "markdown",
   "id": "a42372c6",
   "metadata": {},
   "source": [
    "## Linear Search "
   ]
  },
  {
   "cell_type": "markdown",
   "id": "e44b9214",
   "metadata": {},
   "source": [
    "It is more of an intuitive approach to solve the problem. The intuition behind this is if we have to look for an element then we certainly have to go though each element on the list and check that of the current element is our element or not.\n",
    "In the worst case, we have to go through each element once till the last element, hence, the worst case time complexity will be    \n",
    "$O$(n)."
   ]
  },
  {
   "cell_type": "code",
   "execution_count": 2,
   "id": "441db70b",
   "metadata": {},
   "outputs": [],
   "source": [
    "def linear_search(l,v):\n",
    "    for i in range(len(l)):\n",
    "        if l[i] == v:\n",
    "            return True\n",
    "    else:\n",
    "        return False"
   ]
  },
  {
   "cell_type": "code",
   "execution_count": 6,
   "id": "86e9d986",
   "metadata": {},
   "outputs": [
    {
     "data": {
      "text/plain": [
       "True"
      ]
     },
     "execution_count": 6,
     "metadata": {},
     "output_type": "execute_result"
    }
   ],
   "source": [
    "linear_search([33,4,56,2,3434,21,443,54], 2)"
   ]
  },
  {
   "cell_type": "markdown",
   "id": "c6e9e091",
   "metadata": {},
   "source": [
    "## Binary Search"
   ]
  },
  {
   "cell_type": "markdown",
   "id": "2b6fc8ad",
   "metadata": {},
   "source": [
    "Binary search comes with a condition that, if the given list is sorted then only we can apply binary search. Otherwise, we have to use the linear_search. Provided, somehow we got the sorted list , then the binary search algorithm will take time  \n",
    "$O(\\log{} n)$ to give the result."
   ]
  },
  {
   "cell_type": "code",
   "execution_count": 5,
   "id": "163f7f11",
   "metadata": {},
   "outputs": [],
   "source": [
    "def binary_search(l, v):\n",
    "    if l == []:\n",
    "        return false\n",
    "    else:\n",
    "        m = len(l)//2\n",
    "        \n",
    "        if l[m] == v:\n",
    "            return True\n",
    "        elif v < l[m]:\n",
    "            return binary_search(l[:m], v)\n",
    "        else:\n",
    "            return bianry_search(l[m+1:], v)"
   ]
  },
  {
   "cell_type": "code",
   "execution_count": null,
   "id": "dbbd5ec5",
   "metadata": {},
   "outputs": [],
   "source": []
  }
 ],
 "metadata": {
  "kernelspec": {
   "display_name": "Python 3",
   "language": "python",
   "name": "python3"
  },
  "language_info": {
   "codemirror_mode": {
    "name": "ipython",
    "version": 3
   },
   "file_extension": ".py",
   "mimetype": "text/x-python",
   "name": "python",
   "nbconvert_exporter": "python",
   "pygments_lexer": "ipython3",
   "version": "3.8.8"
  }
 },
 "nbformat": 4,
 "nbformat_minor": 5
}
