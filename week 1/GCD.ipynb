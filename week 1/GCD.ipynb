{
 "cells": [
  {
   "cell_type": "markdown",
   "id": "f17542d8",
   "metadata": {},
   "source": [
    "# Greatest Common Divisor (GCD)"
   ]
  },
  {
   "cell_type": "markdown",
   "id": "b1359a47",
   "metadata": {},
   "source": [
    "GCD is applicable in a context where there are at least two numbers. \n",
    "GCD of two numbers is defined as the largest number which divides the two given numbers without leaving any reminder.\n"
   ]
  },
  {
   "cell_type": "markdown",
   "id": "67046995",
   "metadata": {},
   "source": [
    "## Computing GCD"
   ]
  },
  {
   "cell_type": "markdown",
   "id": "70f1fd80",
   "metadata": {},
   "source": [
    "### 1. Naive method"
   ]
  },
  {
   "cell_type": "markdown",
   "id": "ee938fde",
   "metadata": {},
   "source": [
    "In this method,  \n",
    "- We start from 1 and iterate till min(m,n) and check for each number whether it is divisible by both m and n or not.\n",
    "- We have to check only till min(m,n) because if a number divides both the numbers then it should be smaller than the smallest number among them."
   ]
  },
  {
   "cell_type": "code",
   "execution_count": 1,
   "id": "40768870",
   "metadata": {},
   "outputs": [],
   "source": [
    "def gcd(m,n):\n",
    "    common_factor = []\n",
    "    for i in range(1, min(m,n)+1):\n",
    "        if m%i==0 and n%i==0:\n",
    "            common_factor.append(i)\n",
    "    return common_factor[-1]"
   ]
  },
  {
   "cell_type": "code",
   "execution_count": 10,
   "id": "88162ff8",
   "metadata": {},
   "outputs": [
    {
     "name": "stdout",
     "output_type": "stream",
     "text": [
      "4\n"
     ]
    }
   ],
   "source": [
    "print(gcd(36,56))"
   ]
  },
  {
   "cell_type": "markdown",
   "id": "726d3cef",
   "metadata": {},
   "source": [
    "### 2. Adding some improvement"
   ]
  },
  {
   "cell_type": "markdown",
   "id": "7469d240",
   "metadata": {},
   "source": [
    "Instead of storing all the common factors in the common_factor list \n",
    "we can store just the recent common factor that we come across. This will reduce the space utilized by the program."
   ]
  },
  {
   "cell_type": "code",
   "execution_count": 4,
   "id": "6e2a00b3",
   "metadata": {},
   "outputs": [],
   "source": [
    "def gcd(m,n):\n",
    "    for i in range(1,min(m,n)+1):\n",
    "        if m%i==0 and n%i==0 :\n",
    "            most_recent_common_factor = i\n",
    "    return most_recent_common_factor"
   ]
  },
  {
   "cell_type": "markdown",
   "id": "93ee0207",
   "metadata": {},
   "source": [
    "### 3. Adding some more improvement"
   ]
  },
  {
   "cell_type": "markdown",
   "id": "43923291",
   "metadata": {},
   "source": [
    "Let us assume m and n has gcd k  \n",
    "Then,       \n",
    " ![](gcd.png)"
   ]
  },
  {
   "cell_type": "code",
   "execution_count": 6,
   "id": "5df9cf8f",
   "metadata": {},
   "outputs": [],
   "source": [
    "def gcd(m,n):\n",
    "    (a,b) = (min(m,n),max(m,n))\n",
    "    if b%a == 0:\n",
    "        return a\n",
    "    else:\n",
    "        return gcd(a,b-a)"
   ]
  },
  {
   "cell_type": "markdown",
   "id": "b3ed81ec",
   "metadata": {},
   "source": [
    "### 4. Euclids Algorithm"
   ]
  },
  {
   "cell_type": "markdown",
   "id": "e30bf8df",
   "metadata": {},
   "source": [
    " ![](gcd2.png)"
   ]
  },
  {
   "cell_type": "code",
   "execution_count": 9,
   "id": "91f34e82",
   "metadata": {},
   "outputs": [],
   "source": [
    "def gcd(m,n):\n",
    "    (a,b) = (min(m,n),max(m,n))\n",
    "    if b%a == 0:\n",
    "        return a\n",
    "    else:\n",
    "        return gcd(a,b%a)"
   ]
  },
  {
   "cell_type": "code",
   "execution_count": null,
   "id": "6c4e53fd",
   "metadata": {},
   "outputs": [],
   "source": []
  }
 ],
 "metadata": {
  "kernelspec": {
   "display_name": "Python 3",
   "language": "python",
   "name": "python3"
  },
  "language_info": {
   "codemirror_mode": {
    "name": "ipython",
    "version": 3
   },
   "file_extension": ".py",
   "mimetype": "text/x-python",
   "name": "python",
   "nbconvert_exporter": "python",
   "pygments_lexer": "ipython3",
   "version": "3.8.8"
  }
 },
 "nbformat": 4,
 "nbformat_minor": 5
}
