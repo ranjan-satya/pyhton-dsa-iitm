{
 "cells": [
  {
   "cell_type": "markdown",
   "id": "91684a57",
   "metadata": {},
   "source": [
    "# Prime Number"
   ]
  },
  {
   "cell_type": "markdown",
   "id": "5e0dd8ed",
   "metadata": {},
   "source": [
    "A prime number is a number which have exactly two factors.  \n",
    "1 and itself"
   ]
  },
  {
   "cell_type": "code",
   "execution_count": null,
   "id": "dc931d26",
   "metadata": {},
   "outputs": [],
   "source": []
  }
 ],
 "metadata": {
  "kernelspec": {
   "display_name": "Python 3",
   "language": "python",
   "name": "python3"
  },
  "language_info": {
   "codemirror_mode": {
    "name": "ipython",
    "version": 3
   },
   "file_extension": ".py",
   "mimetype": "text/x-python",
   "name": "python",
   "nbconvert_exporter": "python",
   "pygments_lexer": "ipython3",
   "version": "3.8.8"
  }
 },
 "nbformat": 4,
 "nbformat_minor": 5
}
